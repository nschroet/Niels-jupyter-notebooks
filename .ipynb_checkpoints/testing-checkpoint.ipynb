{
 "cells": [
  {
   "cell_type": "markdown",
   "metadata": {},
   "source": [
    "# Some observation about hv scans at i05\n",
    "When performing an hv scan, one can observe that the Fermi level is not scaling in the same way as the photon energy. To quantify this effect, I extracted the kinetic energy for electrons at the Fermi level for a few cuts, which are shown below."
   ]
  },
  {
   "cell_type": "code",
   "execution_count": 12,
   "metadata": {},
   "outputs": [],
   "source": [
    "%matplotlib inline"
   ]
  },
  {
   "cell_type": "code",
   "execution_count": 79,
   "metadata": {},
   "outputs": [
    {
     "data": {
      "text/html": [
       "<table border=\"1\" class=\"dataframe\">\n",
       "  <thead>\n",
       "    <tr style=\"text-align: right;\">\n",
       "      <th></th>\n",
       "      <th>0</th>\n",
       "      <th>1</th>\n",
       "      <th>2</th>\n",
       "      <th>3</th>\n",
       "      <th>4</th>\n",
       "      <th>5</th>\n",
       "    </tr>\n",
       "  </thead>\n",
       "  <tbody>\n",
       "    <tr>\n",
       "      <th>set photon energy (eV)</th>\n",
       "      <td>108.00</td>\n",
       "      <td>92.00</td>\n",
       "      <td>88.00</td>\n",
       "      <td>65.00</td>\n",
       "      <td>46.00</td>\n",
       "      <td>30.000</td>\n",
       "    </tr>\n",
       "    <tr>\n",
       "      <th>measured E_kin(eV)@E_f</th>\n",
       "      <td>103.06</td>\n",
       "      <td>87.19</td>\n",
       "      <td>83.22</td>\n",
       "      <td>61.38</td>\n",
       "      <td>41.51</td>\n",
       "      <td>25.586</td>\n",
       "    </tr>\n",
       "  </tbody>\n",
       "</table>"
      ],
      "text/plain": [
       "<IPython.core.display.HTML object>"
      ]
     },
     "metadata": {},
     "output_type": "display_data"
    },
    {
     "data": {
      "image/png": "[encoded data removed]",
      "text/plain": [
       "<matplotlib.figure.Figure at 0xcaa6ac8>"
      ]
     },
     "metadata": {},
     "output_type": "display_data"
    }
   ],
   "source": [
    "import matplotlib\n",
    "import numpy as np\n",
    "import pandas as pd\n",
    "import matplotlib.pyplot as plt\n",
    "from scipy.optimize import curve_fit\n",
    "from IPython.display import HTML, display\n",
    "photon_energy = np.array([108,92,88,65,46,30])\n",
    "Ekin_at_Ef = np.array([103.06,87.19,83.22,61.38,41.51,25.586])\n",
    "table_array=np.stack((photon_energy,Ekin_at_Ef))\n",
    "header=['set photon energy (eV)','measured E_kin(eV)@E_f']\n",
    "df = pd.DataFrame(table_array, index=header)\n",
    "html = df.to_html()\n",
    "display(HTML(html))\n",
    "\n",
    "plt.plot(photon_energy, Ekin_at_Ef,'o', label='data');\n",
    "plt.xlabel('photon energy');\n",
    "plt.ylabel('E_kin (eV) at E_f');\n",
    "plt.legend();\n"
   ]
  },
  {
   "cell_type": "markdown",
   "metadata": {},
   "source": [
    "To compensate for the scaling of the Fermi level, we usually scan the center energy together with the photon energy with a linear scaling constant that is different from one without an offset. The optimal scaling constant extracted from a linear fit without offset is 0.9438 eV scaling of center energy per eV of photon energy. \n",
    "\n",
    "Note, however, that this linear fitting is strongly deviating from the correct value at low photon energies. As a result, the Fermi level will not stay constant in the measurement window, but move drastically."
   ]
  },
  {
   "cell_type": "code",
   "execution_count": 83,
   "metadata": {
    "scrolled": false
   },
   "outputs": [
    {
     "data": {
      "text/html": [
       "<table border=\"1\" class=\"dataframe\">\n",
       "  <thead>\n",
       "    <tr style=\"text-align: right;\">\n",
       "      <th></th>\n",
       "      <th>0</th>\n",
       "      <th>1</th>\n",
       "      <th>2</th>\n",
       "      <th>3</th>\n",
       "      <th>4</th>\n",
       "      <th>5</th>\n",
       "    </tr>\n",
       "  </thead>\n",
       "  <tbody>\n",
       "    <tr>\n",
       "      <th>set photon energy (eV)</th>\n",
       "      <td>108.000000</td>\n",
       "      <td>92.000000</td>\n",
       "      <td>88.000000</td>\n",
       "      <td>65.000000</td>\n",
       "      <td>46.000000</td>\n",
       "      <td>30.00000</td>\n",
       "    </tr>\n",
       "    <tr>\n",
       "      <th>measured E_kin(eV)@E_f</th>\n",
       "      <td>103.060000</td>\n",
       "      <td>87.190000</td>\n",
       "      <td>83.220000</td>\n",
       "      <td>61.380000</td>\n",
       "      <td>41.510000</td>\n",
       "      <td>25.58600</td>\n",
       "    </tr>\n",
       "    <tr>\n",
       "      <th>interpolated E_kin(eV)@E_f</th>\n",
       "      <td>101.937814</td>\n",
       "      <td>86.835916</td>\n",
       "      <td>83.060441</td>\n",
       "      <td>61.351462</td>\n",
       "      <td>43.417958</td>\n",
       "      <td>28.31606</td>\n",
       "    </tr>\n",
       "    <tr>\n",
       "      <th>residuals</th>\n",
       "      <td>1.122186</td>\n",
       "      <td>0.354084</td>\n",
       "      <td>0.159559</td>\n",
       "      <td>0.028538</td>\n",
       "      <td>-1.907958</td>\n",
       "      <td>-2.73006</td>\n",
       "    </tr>\n",
       "  </tbody>\n",
       "</table>"
      ],
      "text/plain": [
       "<IPython.core.display.HTML object>"
      ]
     },
     "metadata": {},
     "output_type": "display_data"
    },
    {
     "name": "stdout",
     "output_type": "stream",
     "text": [
      "[ 0.94386865]\n",
      "[ 101.93781448   86.83591604   83.06044143   61.35146242   43.41795802\n",
      "   28.31605958]\n"
     ]
    },
    {
     "data": {
      "image/png": "[encoded data removed]",
      "text/plain": [
       "<matplotlib.figure.Figure at 0xcc29cf8>"
      ]
     },
     "metadata": {},
     "output_type": "display_data"
    }
   ],
   "source": [
    "def linear_funct(x, a):\n",
    "    return a * x\n",
    "popt, pcov = curve_fit(linear_funct, photon_energy, Ekin_at_Ef);\n",
    "interpolated_Ef=linear_funct(photon_energy,popt);\n",
    "residuals(eV)=Ekin_at_Ef-interpolated_Ef;\n",
    "table_array=np.stack((photon_energy,Ekin_at_Ef,interpolated_Ef,residuals))\n",
    "header=['set photon energy (eV)','measured E_kin(eV)@E_f','interpolated E_kin(eV)@E_f','residuals']\n",
    "df = pd.DataFrame(table_array, index=header)\n",
    "html = df.to_html()\n",
    "display(HTML(html))\n",
    "\n",
    "plt.plot(photon_energy, linear_funct(photon_energy, *popt), 'r-', label='fit');\n",
    "plt.plot(photon_energy, Ekin_at_Ef,'o', label='data');\n",
    "plt.legend();\n",
    "\n",
    "\n",
    "print(popt)\n",
    "print(linear_funct(photon_energy,popt))"
   ]
  },
  {
   "cell_type": "markdown",
   "metadata": {},
   "source": [
    "However, the interpolation can be drastically improved by allowing for an offset, instead of a pure linear scaling"
   ]
  },
  {
   "cell_type": "code",
   "execution_count": 64,
   "metadata": {},
   "outputs": [
    {
     "name": "stdout",
     "output_type": "stream",
     "text": [
      "[ 0.99176056 -3.91987994]\n",
      "25.8329368172\n"
     ]
    },
    {
     "data": {
      "image/png": "[encoded data removed]",
      "text/plain": [
       "<matplotlib.figure.Figure at 0xae37908>"
      ]
     },
     "metadata": {},
     "output_type": "display_data"
    }
   ],
   "source": [
    "def linear_funct2(x, a, b):\n",
    "    return (a * x) + b\n",
    "popt2, pcov = curve_fit(linear_funct2, photon_energy, Ekin_at_Ef);\n",
    "plt.plot(photon_energy, linear_funct2(photon_energy, *popt2), 'r-', label='fit');\n",
    "plt.plot(photon_energy, Ekin_at_Ef,'o', label='data');\n",
    "plt.legend();\n",
    "print(popt2)\n",
    "print(linear_funct2(30,*popt2))"
   ]
  },
  {
   "cell_type": "markdown",
   "metadata": {},
   "source": [
    "now the scaling constant is 0.9901 and the offset is -3.7592"
   ]
  },
  {
   "cell_type": "code",
   "execution_count": 59,
   "metadata": {},
   "outputs": [
    {
     "name": "stdout",
     "output_type": "stream",
     "text": [
      "[  29.7048732  -112.77728684]\n"
     ]
    }
   ],
   "source": [
    "print(linear_funct(30,popt2))"
   ]
  },
  {
   "cell_type": "code",
   "execution_count": null,
   "metadata": {
    "collapsed": true
   },
   "outputs": [],
   "source": []
  }
 ],
 "metadata": {
  "kernelspec": {
   "display_name": "Python 2",
   "language": "python",
   "name": "python2"
  },
  "language_info": {
   "codemirror_mode": {
    "name": "ipython",
    "version": 2
   },
   "file_extension": ".py",
   "mimetype": "text/x-python",
   "name": "python",
   "nbconvert_exporter": "python",
   "pygments_lexer": "ipython2",
   "version": "2.7.13"
  }
 },
 "nbformat": 4,
 "nbformat_minor": 2
}
