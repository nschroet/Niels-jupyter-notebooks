{
 "cells": [
  {
   "cell_type": "code",
   "execution_count": 2,
   "metadata": {},
   "outputs": [
    {
     "data": {
      "text/html": [
       "<script>jQuery(function() {if (jQuery(\"body.notebook_app\").length == 0) { jQuery(\".input_area\").toggle(); jQuery(\".prompt\").toggle();}});</script>"
      ]
     },
     "metadata": {},
     "output_type": "display_data"
    },
    {
     "data": {
      "text/html": [
       "<button onclick=\"jQuery('.input_area').toggle(); jQuery('.prompt').toggle();\">Show the python code used for calculations</button>"
      ]
     },
     "metadata": {},
     "output_type": "display_data"
    }
   ],
   "source": [
    "import IPython.core.display as di\n",
    "\n",
    "# This line will hide code by default when the notebook is exported as HTML\n",
    "di.display_html('<script>jQuery(function() {if (jQuery(\"body.notebook_app\").length == 0) { jQuery(\".input_area\").toggle(); jQuery(\".prompt\").toggle();}});</script>', raw=True)\n",
    "\n",
    "# This line will add a button to toggle visibility of code blocks, for use with the HTML export version\n",
    "di.display_html('''<button onclick=\"jQuery('.input_area').toggle(); jQuery('.prompt').toggle();\">Show the python code used for calculations</button>''', raw=True)"
   ]
  },
  {
   "cell_type": "markdown",
   "metadata": {},
   "source": [
    "# Some observation about hv scans at i05\n",
    "When performing an hv scan, one can observe that the Fermi level is not scaling in the same way as the photon energy. To quantify this effect, I extracted the kinetic energy for electrons at the Fermi level for a few cuts:"
   ]
  },
  {
   "cell_type": "code",
   "execution_count": 8,
   "metadata": {
    "collapsed": true
   },
   "outputs": [],
   "source": [
    "%matplotlib inline"
   ]
  },
  {
   "cell_type": "code",
   "execution_count": 9,
   "metadata": {
    "scrolled": true
   },
   "outputs": [
    {
     "data": {
      "text/html": [
       "<table border=\"1\" class=\"dataframe\">\n",
       "  <thead>\n",
       "    <tr style=\"text-align: right;\">\n",
       "      <th></th>\n",
       "      <th>0</th>\n",
       "      <th>1</th>\n",
       "      <th>2</th>\n",
       "      <th>3</th>\n",
       "      <th>4</th>\n",
       "      <th>5</th>\n",
       "    </tr>\n",
       "  </thead>\n",
       "  <tbody>\n",
       "    <tr>\n",
       "      <th>set photon energy (eV)</th>\n",
       "      <td>108.00</td>\n",
       "      <td>92.00</td>\n",
       "      <td>88.00</td>\n",
       "      <td>65.00</td>\n",
       "      <td>46.00</td>\n",
       "      <td>30.000</td>\n",
       "    </tr>\n",
       "    <tr>\n",
       "      <th>measured E_kin(eV)@E_f</th>\n",
       "      <td>103.06</td>\n",
       "      <td>87.19</td>\n",
       "      <td>83.22</td>\n",
       "      <td>61.38</td>\n",
       "      <td>41.51</td>\n",
       "      <td>25.586</td>\n",
       "    </tr>\n",
       "  </tbody>\n",
       "</table>"
      ],
      "text/plain": [
       "<IPython.core.display.HTML object>"
      ]
     },
     "metadata": {},
     "output_type": "display_data"
    },
    {
     "data": {
      "image/png": "[encoded data removed]",
      "text/plain": [
       "<matplotlib.figure.Figure at 0x7cb9b70>"
      ]
     },
     "metadata": {},
     "output_type": "display_data"
    }
   ],
   "source": [
    "import matplotlib\n",
    "import numpy as np\n",
    "import pandas as pd\n",
    "import matplotlib.pyplot as plt\n",
    "from scipy.optimize import curve_fit\n",
    "from IPython.display import HTML, display\n",
    "photon_energy = np.array([108,92,88,65,46,30])\n",
    "Ekin_at_Ef = np.array([103.06,87.19,83.22,61.38,41.51,25.586])\n",
    "table_array=np.stack((photon_energy,Ekin_at_Ef))\n",
    "header=['set photon energy (eV)','measured E_kin(eV)@E_f']\n",
    "df = pd.DataFrame(table_array, index=header)\n",
    "html = df.to_html()\n",
    "display(HTML(html))\n",
    "\n",
    "plt.plot(photon_energy, Ekin_at_Ef,'o', label='data');\n",
    "plt.xlabel('photon energy');\n",
    "plt.ylabel('E_kin (eV) at E_f');\n",
    "plt.legend();\n"
   ]
  },
  {
   "cell_type": "markdown",
   "metadata": {},
   "source": [
    "From a linear fitting to this curve\n",
    "$$\n",
    "f(x)= ax+b\n",
    "$$\n",
    "we can optain the fitting constants\n",
    "$$\n",
    "a=0.99176056$$\n",
    "$$b=-3.91987994\n",
    "$$\n",
    "\n",
    "assuming a 2 eV step, the optimal step in center energy is therefore 1.984. However, this linear fitting still leads to large residuals in the center of the interpolation range.\n"
   ]
  },
  {
   "cell_type": "code",
   "execution_count": 23,
   "metadata": {},
   "outputs": [
    {
     "data": {
      "text/html": [
       "<table border=\"1\" class=\"dataframe\">\n",
       "  <thead>\n",
       "    <tr style=\"text-align: right;\">\n",
       "      <th></th>\n",
       "      <th>0</th>\n",
       "      <th>1</th>\n",
       "      <th>2</th>\n",
       "      <th>3</th>\n",
       "      <th>4</th>\n",
       "      <th>5</th>\n",
       "    </tr>\n",
       "  </thead>\n",
       "  <tbody>\n",
       "    <tr>\n",
       "      <th>set photon energy (eV)</th>\n",
       "      <td>108.00000</td>\n",
       "      <td>92.000000</td>\n",
       "      <td>88.000000</td>\n",
       "      <td>65.000000</td>\n",
       "      <td>46.000000</td>\n",
       "      <td>30.000000</td>\n",
       "    </tr>\n",
       "    <tr>\n",
       "      <th>measured E_kin (eV)@E_f</th>\n",
       "      <td>103.06000</td>\n",
       "      <td>87.190000</td>\n",
       "      <td>83.220000</td>\n",
       "      <td>61.380000</td>\n",
       "      <td>41.510000</td>\n",
       "      <td>25.586000</td>\n",
       "    </tr>\n",
       "    <tr>\n",
       "      <th>interpolated E_kin (eV)@E_f</th>\n",
       "      <td>103.19026</td>\n",
       "      <td>87.322091</td>\n",
       "      <td>83.355049</td>\n",
       "      <td>60.544556</td>\n",
       "      <td>41.701106</td>\n",
       "      <td>25.832937</td>\n",
       "    </tr>\n",
       "    <tr>\n",
       "      <th>residuals (eV)</th>\n",
       "      <td>-0.13026</td>\n",
       "      <td>-0.132091</td>\n",
       "      <td>-0.135049</td>\n",
       "      <td>0.835444</td>\n",
       "      <td>-0.191106</td>\n",
       "      <td>-0.246937</td>\n",
       "    </tr>\n",
       "  </tbody>\n",
       "</table>"
      ],
      "text/plain": [
       "<IPython.core.display.HTML object>"
      ]
     },
     "metadata": {},
     "output_type": "display_data"
    },
    {
     "data": {
      "image/png": "[encoded data removed]",
      "text/plain": [
       "<matplotlib.figure.Figure at 0xc2edf60>"
      ]
     },
     "metadata": {},
     "output_type": "display_data"
    }
   ],
   "source": [
    "def linear_funct2(x, a, b):\n",
    "    return (a * x) + b\n",
    "popt2, pcov = curve_fit(linear_funct2, photon_energy, Ekin_at_Ef);\n",
    "plt.plot(photon_energy, linear_funct2(photon_energy, *popt2), 'r-', label='fit');\n",
    "\n",
    "\n",
    "interpolated_Ef=linear_funct2(photon_energy,*popt2);\n",
    "residuals=Ekin_at_Ef-interpolated_Ef;\n",
    "table_array=np.stack((photon_energy,Ekin_at_Ef,interpolated_Ef,residuals))\n",
    "header=['set photon energy (eV)','measured E_kin (eV)@E_f','interpolated E_kin (eV)@E_f','residuals (eV)']\n",
    "df = pd.DataFrame(table_array, index=header)\n",
    "html = df.to_html()\n",
    "display(HTML(html))\n",
    "\n",
    "\n",
    "plt.plot(photon_energy, Ekin_at_Ef,'o', label='data');\n",
    "plt.xlabel('photon energy');\n",
    "plt.ylabel('E_kin (eV) at E_f');\n",
    "plt.legend();"
   ]
  },
  {
   "cell_type": "markdown",
   "metadata": {},
   "source": [
    "We can even further improve on this when using a parabolic fitting\n",
    "\n",
    "f(x)=a * x^2 + b*x + c\n",
    "\n",
    "with parameters \n",
    "a=-3.96e-04   b=1.05  c=-5.41"
   ]
  },
  {
   "cell_type": "code",
   "execution_count": 24,
   "metadata": {},
   "outputs": [
    {
     "data": {
      "text/html": [
       "<table border=\"1\" class=\"dataframe\">\n",
       "  <thead>\n",
       "    <tr style=\"text-align: right;\">\n",
       "      <th></th>\n",
       "      <th>0</th>\n",
       "      <th>1</th>\n",
       "      <th>2</th>\n",
       "      <th>3</th>\n",
       "      <th>4</th>\n",
       "      <th>5</th>\n",
       "    </tr>\n",
       "  </thead>\n",
       "  <tbody>\n",
       "    <tr>\n",
       "      <th>set photon energy (eV)</th>\n",
       "      <td>108.000000</td>\n",
       "      <td>92.000000</td>\n",
       "      <td>88.000000</td>\n",
       "      <td>65.00000</td>\n",
       "      <td>46.000000</td>\n",
       "      <td>30.000000</td>\n",
       "    </tr>\n",
       "    <tr>\n",
       "      <th>measured E_kin (eV)@E_f</th>\n",
       "      <td>103.060000</td>\n",
       "      <td>87.190000</td>\n",
       "      <td>83.220000</td>\n",
       "      <td>61.38000</td>\n",
       "      <td>41.510000</td>\n",
       "      <td>25.586000</td>\n",
       "    </tr>\n",
       "    <tr>\n",
       "      <th>interpolated E_kin (eV)@E_f</th>\n",
       "      <td>102.869486</td>\n",
       "      <td>87.399957</td>\n",
       "      <td>83.500932</td>\n",
       "      <td>60.83591</td>\n",
       "      <td>41.796994</td>\n",
       "      <td>25.542722</td>\n",
       "    </tr>\n",
       "    <tr>\n",
       "      <th>residuals (eV)</th>\n",
       "      <td>0.190514</td>\n",
       "      <td>-0.209957</td>\n",
       "      <td>-0.280932</td>\n",
       "      <td>0.54409</td>\n",
       "      <td>-0.286994</td>\n",
       "      <td>0.043278</td>\n",
       "    </tr>\n",
       "  </tbody>\n",
       "</table>"
      ],
      "text/plain": [
       "<IPython.core.display.HTML object>"
      ]
     },
     "metadata": {},
     "output_type": "display_data"
    },
    {
     "data": {
      "image/png": "[encoded data removed]",
      "text/plain": [
       "<matplotlib.figure.Figure at 0xbd544a8>"
      ]
     },
     "metadata": {},
     "output_type": "display_data"
    }
   ],
   "source": [
    "def parabolic_func(x, a, b, c):\n",
    "    return a * x**2 + b*x + c\n",
    "popt3, pcov = curve_fit(parabolic_func, photon_energy, Ekin_at_Ef);\n",
    "plt.plot(photon_energy, parabolic_func(photon_energy, *popt3), 'r-', label='fit');\n",
    "\n",
    "interpolated_Ef=parabolic_func(photon_energy,*popt3);\n",
    "residuals=Ekin_at_Ef-interpolated_Ef;\n",
    "table_array=np.stack((photon_energy,Ekin_at_Ef,interpolated_Ef,residuals))\n",
    "header=['set photon energy (eV)','measured E_kin (eV)@E_f','interpolated E_kin (eV)@E_f','residuals (eV)']\n",
    "df = pd.DataFrame(table_array, index=header)\n",
    "html = df.to_html()\n",
    "display(HTML(html))\n",
    "\n",
    "\n",
    "plt.plot(photon_energy, Ekin_at_Ef,'o', label='data');\n",
    "plt.xlabel('photon energy');\n",
    "plt.ylabel('E_kin (eV) at E_f');\n",
    "plt.legend();"
   ]
  },
  {
   "cell_type": "markdown",
   "metadata": {},
   "source": [
    "However, more datapoints are needed to confirm that the quadratic scaling is indeed superior"
   ]
  },
  {
   "cell_type": "code",
   "execution_count": null,
   "metadata": {
    "collapsed": true
   },
   "outputs": [],
   "source": []
  }
 ],
 "metadata": {
  "kernelspec": {
   "display_name": "Python 2",
   "language": "python",
   "name": "python2"
  },
  "language_info": {
   "codemirror_mode": {
    "name": "ipython",
    "version": 2
   },
   "file_extension": ".py",
   "mimetype": "text/x-python",
   "name": "python",
   "nbconvert_exporter": "python",
   "pygments_lexer": "ipython2",
   "version": "2.7.13"
  }
 },
 "nbformat": 4,
 "nbformat_minor": 2
}
